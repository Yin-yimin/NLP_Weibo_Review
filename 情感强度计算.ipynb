{
 "cells": [
  {
   "cell_type": "code",
   "execution_count": 1,
   "metadata": {},
   "outputs": [],
   "source": [
    "import pandas as pd\n",
    "df = pd.read_excel('data_process_all.xlsx')"
   ]
  },
  {
   "cell_type": "markdown",
   "metadata": {},
   "source": [
    "# 计算文本加权情感强度"
   ]
  },
  {
   "cell_type": "code",
   "execution_count": 2,
   "metadata": {
    "scrolled": false
   },
   "outputs": [
    {
     "name": "stderr",
     "output_type": "stream",
     "text": [
      "<ipython-input-2-7a15bf443485>:20: SettingWithCopyWarning: \n",
      "A value is trying to be set on a copy of a slice from a DataFrame\n",
      "\n",
      "See the caveats in the documentation: https://pandas.pydata.org/pandas-docs/stable/user_guide/indexing.html#returning-a-view-versus-a-copy\n",
      "  df['weighted_score'][i]=emo*k*(emo_score+num_emoji*3)/length\n",
      "<ipython-input-2-7a15bf443485>:20: RuntimeWarning: invalid value encountered in double_scalars\n",
      "  df['weighted_score'][i]=emo*k*(emo_score+num_emoji*3)/length\n",
      "<ipython-input-2-7a15bf443485>:20: RuntimeWarning: divide by zero encountered in double_scalars\n",
      "  df['weighted_score'][i]=emo*k*(emo_score+num_emoji*3)/length\n",
      "<ipython-input-2-7a15bf443485>:22: SettingWithCopyWarning: \n",
      "A value is trying to be set on a copy of a slice from a DataFrame\n",
      "\n",
      "See the caveats in the documentation: https://pandas.pydata.org/pandas-docs/stable/user_guide/indexing.html#returning-a-view-versus-a-copy\n",
      "  df['weighted_score'][np.isinf(df['weighted_score'])] = 0\n"
     ]
    }
   ],
   "source": [
    "#文本加权情感强度计算公式为：整体情感极性*K（是否为长文本）*（分词情感强度绝对值+emoji数量*3）/分词长度\n",
    "#其中，整体情感极性由百度API提供；长文本权重为1.5，短文本权重为1\n",
    "import numpy as np\n",
    "df['weighted_score']=0\n",
    "for i in range(len(df)):\n",
    "    try:\n",
    "        num_emoji=len(df['weibo_emoji'][i].split(\",\"))\n",
    "    except:\n",
    "        num_emoji=0\n",
    "    length=df['length'][i]\n",
    "    emo_score=abs(df['emo_score'][i])\n",
    "    if df['isLongText'][i]:\n",
    "        k=1.5\n",
    "    else:\n",
    "        k=1\n",
    "    if df['baidu_pm'][i]==\"正向\":\n",
    "        emo=1\n",
    "    else:\n",
    "        emo=-1\n",
    "    df['weighted_score'][i]=emo*k*(emo_score+num_emoji*3)/length\n",
    "df['weighted_score']=df['weighted_score'].fillna(value=0)\n",
    "df['weighted_score'][np.isinf(df['weighted_score'])] = 0"
   ]
  },
  {
   "cell_type": "code",
   "execution_count": 27,
   "metadata": {},
   "outputs": [
    {
     "data": {
      "text/html": [
       "<div>\n",
       "<style scoped>\n",
       "    .dataframe tbody tr th:only-of-type {\n",
       "        vertical-align: middle;\n",
       "    }\n",
       "\n",
       "    .dataframe tbody tr th {\n",
       "        vertical-align: top;\n",
       "    }\n",
       "\n",
       "    .dataframe thead th {\n",
       "        text-align: right;\n",
       "    }\n",
       "</style>\n",
       "<table border=\"1\" class=\"dataframe\">\n",
       "  <thead>\n",
       "    <tr style=\"text-align: right;\">\n",
       "      <th></th>\n",
       "      <th>isLongText</th>\n",
       "      <th>baidu_pm</th>\n",
       "      <th>weibo_emoji</th>\n",
       "      <th>length</th>\n",
       "      <th>emo_score</th>\n",
       "      <th>weighted_score</th>\n",
       "    </tr>\n",
       "  </thead>\n",
       "  <tbody>\n",
       "    <tr>\n",
       "      <th>2306</th>\n",
       "      <td>False</td>\n",
       "      <td>负向</td>\n",
       "      <td>NaN</td>\n",
       "      <td>14</td>\n",
       "      <td>0.0</td>\n",
       "      <td>-0.000000</td>\n",
       "    </tr>\n",
       "    <tr>\n",
       "      <th>41</th>\n",
       "      <td>False</td>\n",
       "      <td>负向</td>\n",
       "      <td>NaN</td>\n",
       "      <td>18</td>\n",
       "      <td>-5.0</td>\n",
       "      <td>-0.277778</td>\n",
       "    </tr>\n",
       "    <tr>\n",
       "      <th>2752</th>\n",
       "      <td>False</td>\n",
       "      <td>正向</td>\n",
       "      <td>NaN</td>\n",
       "      <td>7</td>\n",
       "      <td>3.0</td>\n",
       "      <td>0.428571</td>\n",
       "    </tr>\n",
       "    <tr>\n",
       "      <th>2585</th>\n",
       "      <td>False</td>\n",
       "      <td>正向</td>\n",
       "      <td>NaN</td>\n",
       "      <td>1</td>\n",
       "      <td>7.0</td>\n",
       "      <td>7.000000</td>\n",
       "    </tr>\n",
       "    <tr>\n",
       "      <th>6223</th>\n",
       "      <td>False</td>\n",
       "      <td>负向</td>\n",
       "      <td>NaN</td>\n",
       "      <td>4</td>\n",
       "      <td>0.0</td>\n",
       "      <td>-0.000000</td>\n",
       "    </tr>\n",
       "    <tr>\n",
       "      <th>1813</th>\n",
       "      <td>False</td>\n",
       "      <td>正向</td>\n",
       "      <td>good,熊猫</td>\n",
       "      <td>6</td>\n",
       "      <td>10.0</td>\n",
       "      <td>2.666667</td>\n",
       "    </tr>\n",
       "    <tr>\n",
       "      <th>5681</th>\n",
       "      <td>False</td>\n",
       "      <td>负向</td>\n",
       "      <td>NaN</td>\n",
       "      <td>2</td>\n",
       "      <td>-5.0</td>\n",
       "      <td>-2.500000</td>\n",
       "    </tr>\n",
       "    <tr>\n",
       "      <th>4473</th>\n",
       "      <td>False</td>\n",
       "      <td>负向</td>\n",
       "      <td>NaN</td>\n",
       "      <td>7</td>\n",
       "      <td>-5.0</td>\n",
       "      <td>-0.714286</td>\n",
       "    </tr>\n",
       "    <tr>\n",
       "      <th>5211</th>\n",
       "      <td>False</td>\n",
       "      <td>负向</td>\n",
       "      <td>NaN</td>\n",
       "      <td>14</td>\n",
       "      <td>-13.0</td>\n",
       "      <td>-0.928571</td>\n",
       "    </tr>\n",
       "    <tr>\n",
       "      <th>1001</th>\n",
       "      <td>False</td>\n",
       "      <td>负向</td>\n",
       "      <td>NaN</td>\n",
       "      <td>42</td>\n",
       "      <td>-5.0</td>\n",
       "      <td>-0.119048</td>\n",
       "    </tr>\n",
       "  </tbody>\n",
       "</table>\n",
       "</div>"
      ],
      "text/plain": [
       "      isLongText baidu_pm weibo_emoji  length  emo_score  weighted_score\n",
       "2306       False       负向         NaN      14        0.0       -0.000000\n",
       "41         False       负向         NaN      18       -5.0       -0.277778\n",
       "2752       False       正向         NaN       7        3.0        0.428571\n",
       "2585       False       正向         NaN       1        7.0        7.000000\n",
       "6223       False       负向         NaN       4        0.0       -0.000000\n",
       "1813       False       正向     good,熊猫       6       10.0        2.666667\n",
       "5681       False       负向         NaN       2       -5.0       -2.500000\n",
       "4473       False       负向         NaN       7       -5.0       -0.714286\n",
       "5211       False       负向         NaN      14      -13.0       -0.928571\n",
       "1001       False       负向         NaN      42       -5.0       -0.119048"
      ]
     },
     "execution_count": 27,
     "metadata": {},
     "output_type": "execute_result"
    }
   ],
   "source": [
    "df[['isLongText','baidu_pm','weibo_emoji','length','emo_score','weighted_score']].sample(n=10)"
   ]
  },
  {
   "cell_type": "markdown",
   "metadata": {},
   "source": [
    "# 微博话题强度计算"
   ]
  },
  {
   "cell_type": "code",
   "execution_count": 28,
   "metadata": {},
   "outputs": [],
   "source": [
    "#情感强度第一定律公式μ=K*log(1+△p)，其中K与事件话题敏感度有关，此处为较敏感事件，取K=2\n",
    "#价值率高差计算公式：△p=(Ci-Cmin)/(Cmax-Cmin),其中i为时间段，C为时间戳中转评赞总和\n",
    "import datetime\n",
    "#数据是从22年2月到23年四月底，其中由于23.4.7官方发布相关消息，讨论度变化较大，故取前后一段时间舆论强度变化作为示例\n",
    "START=datetime.datetime.strptime(\"2023-4-7 0:00:00\", '%Y-%m-%d %H:%M:%S')\n",
    "END=datetime.datetime.strptime(\"2023-4-10 0:00:00\", '%Y-%m-%d %H:%M:%S')\n",
    "\n",
    "#划分时间戳\n",
    "start=[]\n",
    "end=[]\n",
    "h=2\n",
    "begin=START\n",
    "while begin<END:\n",
    "    start.append(begin)\n",
    "    end.append(begin+datetime.timedelta(hours=h))\n",
    "    begin=begin+datetime.timedelta(hours=h)\n",
    "\n",
    "C=[0 for i in range(len(start))]\n",
    "Stext=[0 for i in range(len(start))]\n",
    "for i in range(len(df)):\n",
    "    if df['isLongText'][i]:\n",
    "        k=3\n",
    "    else:\n",
    "        k=1\n",
    "    time=df['created_at'][i]\n",
    "    count=df['comments_count'][i]+df['attitudes_count'][i]+df['reposts_count'][i]+k #计数=转赞评+文本（是否为长文本）\n",
    "    score=df['weighted_score'][i]\n",
    "    for j in range(len(start)):\n",
    "        if time>=start[j] and time<end[j]:\n",
    "            C[j]+=count\n",
    "            Stext[j]+=score\n",
    "Stopic=[0 for i in range(len(start))]\n",
    "for j in range(len(C)):\n",
    "    p=(C[j]-min(C))/(max(C)-min(C))\n",
    "    Stopic[j]=2*np.log(1+p)"
   ]
  },
  {
   "cell_type": "markdown",
   "metadata": {},
   "source": [
    "# 综合情感计算及舆情变化趋势检测"
   ]
  },
  {
   "cell_type": "code",
   "execution_count": 29,
   "metadata": {},
   "outputs": [],
   "source": [
    "SE=[0 for i in range(len(start))]\n",
    "for i in range(len(C)):\n",
    "    SE[i]=abs(Stext[i]*Stopic[i]/2)"
   ]
  },
  {
   "cell_type": "code",
   "execution_count": 34,
   "metadata": {},
   "outputs": [
    {
     "data": {
      "text/plain": [
       "[<matplotlib.lines.Line2D at 0x1c40130e940>]"
      ]
     },
     "execution_count": 34,
     "metadata": {},
     "output_type": "execute_result"
    },
    {
     "data": {
      "image/png": "[encoded data removed]",
      "text/plain": [
       "<Figure size 1600x640 with 1 Axes>"
      ]
     },
     "metadata": {
      "needs_background": "light"
     },
     "output_type": "display_data"
    }
   ],
   "source": [
    "import matplotlib.pyplot as plt\n",
    "plt.figure(figsize=(20,8),dpi=80)    \n",
    "plt.plot(start,SE)"
   ]
  },
  {
   "cell_type": "code",
   "execution_count": 31,
   "metadata": {},
   "outputs": [],
   "source": [
    "#舆情变化率近似于(SEt+1-SEt)/T\n",
    "#其中T为时间间隔，即一个时间戳长度\n",
    "y=[(SE[i+1]-SE[i])/h for i in range(len(SE)-1)]"
   ]
  },
  {
   "cell_type": "code",
   "execution_count": 32,
   "metadata": {},
   "outputs": [
    {
     "data": {
      "text/plain": [
       "[<matplotlib.lines.Line2D at 0x1c400cc5f70>]"
      ]
     },
     "execution_count": 32,
     "metadata": {},
     "output_type": "execute_result"
    },
    {
     "data": {
      "image/png": "[encoded data removed]",
      "text/plain": [
       "<Figure size 1600x640 with 1 Axes>"
      ]
     },
     "metadata": {
      "needs_background": "light"
     },
     "output_type": "display_data"
    }
   ],
   "source": [
    "import matplotlib.pyplot as plt\n",
    "plt.figure(figsize=(20,8),dpi=80)    \n",
    "plt.plot(start[:len(start)-1],y)"
   ]
  }
 ],
 "metadata": {
  "kernelspec": {
   "display_name": "Python 3",
   "language": "python",
   "name": "python3"
  },
  "language_info": {
   "codemirror_mode": {
    "name": "ipython",
    "version": 3
   },
   "file_extension": ".py",
   "mimetype": "text/x-python",
   "name": "python",
   "nbconvert_exporter": "python",
   "pygments_lexer": "ipython3",
   "version": "3.8.5"
  }
 },
 "nbformat": 4,
 "nbformat_minor": 4
}
