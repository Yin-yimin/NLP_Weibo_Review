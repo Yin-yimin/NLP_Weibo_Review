{
 "cells": [
  {
   "cell_type": "code",
   "execution_count": 73,
   "metadata": {},
   "outputs": [],
   "source": [
    "import pandas as pd\n",
    "import re"
   ]
  },
  {
   "cell_type": "code",
   "execution_count": 74,
   "metadata": {},
   "outputs": [],
   "source": [
    "df1 = pd.read_excel('./df1.xlsx')\n",
    "df2 = pd.read_excel('./df2.xlsx')\n",
    "df3 = pd.read_excel('./df3.xlsx')\n",
    "df4 = pd.read_excel('./df4.xlsx')\n",
    "df1c = pd.read_excel('./df1c.xlsx')\n",
    "df2c = pd.read_excel('./df2c.xlsx')\n",
    "df3c = pd.read_excel('./df3c.xlsx')\n",
    "df4c = pd.read_excel('./df4c.xlsx')"
   ]
  },
  {
   "cell_type": "code",
   "execution_count": 75,
   "metadata": {},
   "outputs": [],
   "source": [
    "df1c.tags = df1c.tags.apply(lambda x: x+',铁链女' if type(x) == type('str') else '铁链女')\n",
    "df2c.tags = df2c.tags.apply(lambda x: x+',丰县八孩案一审宣判' if type(x) ==  type('str') else '丰县八孩案一审宣判')\n",
    "df3c.tags = df3c.tags.apply(lambda x: x+',董志民获刑9年' if type(x) ==  type('str') else '董志民获刑9年')\n",
    "df4c.tags = df4c.tags.apply(lambda x: x+',徐州通报丰县生育八孩女子处理情况' if type(x) ==  type('str') else '徐州通报丰县生育八孩女子处理情况')"
   ]
  },
  {
   "cell_type": "code",
   "execution_count": 77,
   "metadata": {},
   "outputs": [
    {
     "data": {
      "text/plain": [
       "float"
      ]
     },
     "execution_count": 77,
     "metadata": {},
     "output_type": "execute_result"
    }
   ],
   "source": [
    "type(df1c.status_province.iloc[0])"
   ]
  },
  {
   "cell_type": "code",
   "execution_count": 78,
   "metadata": {},
   "outputs": [],
   "source": [
    "df1c.status_province = df1c.status_province.apply(lambda x: x.split('来自')[1] if str(x) != 'nan' else '')\n",
    "df2c.status_province = df2c.status_province.apply(lambda x: x.split('来自')[1] if str(x) != 'nan' else '')\n",
    "df3c.status_province = df3c.status_province.apply(lambda x: x.split('来自')[1] if str(x) != 'nan' else '')\n",
    "df4c.status_province = df4c.status_province.apply(lambda x: x.split('来自')[1] if str(x) != 'nan' else '')"
   ]
  },
  {
   "cell_type": "code",
   "execution_count": 61,
   "metadata": {},
   "outputs": [],
   "source": [
    "to_convert = ['status_city', 'status_country', 'status_province', 'user_verified_reason']"
   ]
  },
  {
   "cell_type": "code",
   "execution_count": 62,
   "metadata": {},
   "outputs": [],
   "source": [
    "for i in to_convert:\n",
    "    df1[i] = df1[i].apply(lambda x: re.sub('0','',str(x)))\n",
    "    df2[i] = df2[i].apply(lambda x: re.sub('0','',str(x)))\n",
    "    df3[i] = df3[i].apply(lambda x: re.sub('0','',str(x)))\n",
    "    df4[i] = df4[i].apply(lambda x: re.sub('0','',str(x)))\n",
    "    df1c[i] = df1c[i].apply(lambda x: re.sub('0','',str(x)))\n",
    "    df2c[i] = df2c[i].apply(lambda x: re.sub('0','',str(x)))\n",
    "    df3c[i] = df3c[i].apply(lambda x: re.sub('0','',str(x)))\n",
    "    df4c[i] = df4c[i].apply(lambda x: re.sub('0','',str(x)))"
   ]
  },
  {
   "cell_type": "code",
   "execution_count": 63,
   "metadata": {},
   "outputs": [],
   "source": [
    "from datetime import datetime\n",
    "i = 'created_at'\n",
    "df1[i] = df1[i].apply(lambda x: datetime.strptime(x,\"%a %b %d %H:%M:%S +0800 %Y\"))\n",
    "df2[i] = df2[i].apply(lambda x: datetime.strptime(x,\"%a %b %d %H:%M:%S +0800 %Y\"))\n",
    "df3[i] = df3[i].apply(lambda x: datetime.strptime(x,\"%a %b %d %H:%M:%S +0800 %Y\"))\n",
    "df4[i] = df4[i].apply(lambda x: datetime.strptime(x,\"%a %b %d %H:%M:%S +0800 %Y\"))\n",
    "df1c[i] = df1c[i].apply(lambda x: datetime.strptime(x,\"%a %b %d %H:%M:%S +0800 %Y\"))\n",
    "df2c[i] = df2c[i].apply(lambda x: datetime.strptime(x,\"%a %b %d %H:%M:%S +0800 %Y\"))\n",
    "df3c[i] = df3c[i].apply(lambda x: datetime.strptime(x,\"%a %b %d %H:%M:%S +0800 %Y\"))\n",
    "df4c[i] = df4c[i].apply(lambda x: datetime.strptime(x,\"%a %b %d %H:%M:%S +0800 %Y\"))\n"
   ]
  },
  {
   "cell_type": "code",
   "execution_count": 64,
   "metadata": {},
   "outputs": [],
   "source": [
    "data = [df1,df2,df3,df4,df1c,df2c,df3c,df4c]\n",
    "for i in data:\n",
    "    i.drop(['Unnamed: 0'],axis=1,inplace=True)"
   ]
  },
  {
   "cell_type": "code",
   "execution_count": 65,
   "metadata": {},
   "outputs": [],
   "source": [
    "\n",
    "df1.dropna(subset = ['weibo_emoji','texts'],how='all',inplace=True)\n",
    "df2.dropna(subset = ['weibo_emoji','texts'],how='all',inplace=True)\n",
    "df3.dropna(subset = ['weibo_emoji','texts'],how='all',inplace=True)\n",
    "df4.dropna(subset = ['weibo_emoji','texts'],how='all',inplace=True)\n",
    "df1c.dropna(subset = ['weibo_emoji','texts'],how='all',inplace=True)\n",
    "df2c.dropna(subset = ['weibo_emoji','texts'],how='all',inplace=True)\n",
    "df3c.dropna(subset = ['weibo_emoji','texts'],how='all',inplace=True)\n",
    "df4c.dropna(subset = ['weibo_emoji','texts'],how='all',inplace=True)"
   ]
  },
  {
   "cell_type": "code",
   "execution_count": 66,
   "metadata": {},
   "outputs": [],
   "source": [
    "df = pd.concat([df1,df2,df3,df4,df1c,df2c,df3c,df4c],axis=0)\n",
    "df.reset_index(drop=True,inplace=True)"
   ]
  },
  {
   "cell_type": "code",
   "execution_count": 67,
   "metadata": {},
   "outputs": [],
   "source": [
    "with pd.ExcelWriter(r'./data.xlsx',mode='w') as writer:\n",
    "    df.to_excel(writer, sheet_name='汇总')\n",
    "    df1.to_excel(writer, sheet_name='铁链女')\n",
    "    df2.to_excel(writer, sheet_name='#丰县八孩')\n",
    "    df3.to_excel(writer, sheet_name='#董志民')\n",
    "    df4.to_excel(writer, sheet_name='#徐州通报')\n",
    "    df1c.to_excel(writer, sheet_name='铁链女评论')\n",
    "    df2c.to_excel(writer, sheet_name='#丰县八孩评论')\n",
    "    df3c.to_excel(writer, sheet_name='#董志民评论')\n",
    "    df4c.to_excel(writer, sheet_name='#徐州通报评论')"
   ]
  },
  {
   "cell_type": "code",
   "execution_count": null,
   "metadata": {},
   "outputs": [],
   "source": []
  }
 ],
 "metadata": {
  "kernelspec": {
   "display_name": "base",
   "language": "python",
   "name": "python3"
  },
  "language_info": {
   "codemirror_mode": {
    "name": "ipython",
    "version": 3
   },
   "file_extension": ".py",
   "mimetype": "text/x-python",
   "name": "python",
   "nbconvert_exporter": "python",
   "pygments_lexer": "ipython3",
   "version": "3.10.9"
  },
  "orig_nbformat": 4
 },
 "nbformat": 4,
 "nbformat_minor": 2
}
